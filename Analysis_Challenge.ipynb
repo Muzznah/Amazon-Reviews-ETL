{
  "nbformat": 4,
  "nbformat_minor": 0,
  "metadata": {
    "colab": {
      "name": "Analysis-Challenge.ipynb",
      "provenance": [],
      "authorship_tag": "ABX9TyNZ0zQeG5RIvJW71G1TA0lz",
      "include_colab_link": true
    },
    "kernelspec": {
      "name": "python3",
      "display_name": "Python 3"
    }
  },
  "cells": [
    {
      "cell_type": "markdown",
      "metadata": {
        "id": "view-in-github",
        "colab_type": "text"
      },
      "source": [
        "<a href=\"https://colab.research.google.com/github/Muzznah/Amazon-Reviews-ETL/blob/master/Analysis_Challenge.ipynb\" target=\"_parent\"><img src=\"https://colab.research.google.com/assets/colab-badge.svg\" alt=\"Open In Colab\"/></a>"
      ]
    },
    {
      "cell_type": "code",
      "metadata": {
        "id": "QF5MDudhkTFa",
        "colab_type": "code",
        "colab": {}
      },
      "source": [
        "# Install Java, Spark, and Findspark\n",
        "!apt-get install default-jdk > /dev/null\n",
        "!wget -q http://www-us.apache.org/dist/spark/spark-3.0.0/spark-3.0.0-bin-hadoop2.7.tgz\n",
        "!tar xf spark-3.0.0-bin-hadoop2.7.tgz\n",
        "!pip install -q findspark\n",
        "# Install the Java JDK.\n",
        "\n",
        "\n",
        "# Set Environment Variables\n",
        "import os\n",
        "os.environ[\"JAVA_HOME\"] = \"/usr/lib/jvm/java-11-openjdk-amd64\"\n",
        "os.environ[\"SPARK_HOME\"] = \"/content/spark-3.0.0-bin-hadoop2.7\"\n",
        "\n",
        "# Start a SparkSession\n",
        "import findspark\n",
        "findspark.init()"
      ],
      "execution_count": 81,
      "outputs": []
    },
    {
      "cell_type": "code",
      "metadata": {
        "id": "M_zBnOgAsx2K",
        "colab_type": "code",
        "colab": {
          "base_uri": "https://localhost:8080/",
          "height": 208
        },
        "outputId": "d12be23c-760f-468b-e905-4bae55d436fa"
      },
      "source": [
        "# Connect to postgres\n",
        "!wget https://jdbc.postgresql.org/download/postgresql-42.2.9.jar"
      ],
      "execution_count": 3,
      "outputs": [
        {
          "output_type": "stream",
          "text": [
            "--2020-08-07 17:39:09--  https://jdbc.postgresql.org/download/postgresql-42.2.9.jar\n",
            "Resolving jdbc.postgresql.org (jdbc.postgresql.org)... 72.32.157.228, 2001:4800:3e1:1::228\n",
            "Connecting to jdbc.postgresql.org (jdbc.postgresql.org)|72.32.157.228|:443... connected.\n",
            "HTTP request sent, awaiting response... 200 OK\n",
            "Length: 914037 (893K) [application/java-archive]\n",
            "Saving to: ‘postgresql-42.2.9.jar’\n",
            "\n",
            "postgresql-42.2.9.j 100%[===================>] 892.61K  4.77MB/s    in 0.2s    \n",
            "\n",
            "2020-08-07 17:39:09 (4.77 MB/s) - ‘postgresql-42.2.9.jar’ saved [914037/914037]\n",
            "\n"
          ],
          "name": "stdout"
        }
      ]
    },
    {
      "cell_type": "code",
      "metadata": {
        "id": "50FNI2hzs4t8",
        "colab_type": "code",
        "colab": {}
      },
      "source": [
        "# Start Spark session\n",
        "from pyspark.sql import SparkSession\n",
        "spark = SparkSession.builder.appName(\"Amazone_review\").config(\"spark.driver.extraClassPath\",\"/content/postgresql-42.2.9.jar\").getOrCreate()"
      ],
      "execution_count": 82,
      "outputs": []
    },
    {
      "cell_type": "code",
      "metadata": {
        "id": "1NSHsngutBr_",
        "colab_type": "code",
        "colab": {
          "base_uri": "https://localhost:8080/",
          "height": 228
        },
        "outputId": "3b491252-eb9a-45de-f355-ae7715eea817"
      },
      "source": [
        "# Read in data from S3 Buckets\n",
        "from pyspark import SparkFiles\n",
        "url =\"https://s3.amazonaws.com/amazon-reviews-pds/tsv/amazon_reviews_us_Baby_v1_00.tsv.gz\"\n",
        "spark.sparkContext.addFile(url)\n",
        "df = spark.read.csv(SparkFiles.get(\"amazon_reviews_us_Baby_v1_00.tsv.gz\"), sep=\"\\t\", header=True,inferSchema=True)\n",
        "\n",
        "# Show DataFrame\n",
        "df.show(5)"
      ],
      "execution_count": 83,
      "outputs": [
        {
          "output_type": "stream",
          "text": [
            "+-----------+-----------+--------------+----------+--------------+--------------------+----------------+-----------+-------------+-----------+----+-----------------+--------------------+--------------------+-----------+\n",
            "|marketplace|customer_id|     review_id|product_id|product_parent|       product_title|product_category|star_rating|helpful_votes|total_votes|vine|verified_purchase|     review_headline|         review_body|review_date|\n",
            "+-----------+-----------+--------------+----------+--------------+--------------------+----------------+-----------+-------------+-----------+----+-----------------+--------------------+--------------------+-----------+\n",
            "|         US|    9970739| R8EWA1OFT84NX|B00GSP5D94|     329991347|Summer Infant Swa...|            Baby|          5|            0|          0|   N|                Y|Great swaddled bl...|Loved these swadd...| 2015-08-31|\n",
            "|         US|   23538442|R2JWY4YRQD4FOP|B00YYDDZGU|     646108902|Pacifier Clip Gir...|            Baby|          5|            0|          0|   N|                N|Too cute and real...|These are adorabl...| 2015-08-31|\n",
            "|         US|    8273344| RL5ESX231LZ0B|B00BUBNZC8|     642922361|Udder Covers - Br...|            Baby|          5|            0|          0|   N|                Y|          Five Stars|          Great gift| 2015-08-31|\n",
            "|         US|   24557753| RRMS9ZWJ2KD08|B00AWLZFTS|     494272733|Gerber Graduates ...|            Baby|          5|            0|          0|   N|                Y|Cute; wash up nic...|These forks are g...| 2015-08-31|\n",
            "|         US|   46263340|R14I3ZG5E6S7YM|B00KM60D3Q|     305813185|Summer Infant Ult...|            Baby|          5|            0|          0|   N|                Y|            Love it!|I wanted somethin...| 2015-08-31|\n",
            "+-----------+-----------+--------------+----------+--------------+--------------------+----------------+-----------+-------------+-----------+----+-----------------+--------------------+--------------------+-----------+\n",
            "only showing top 5 rows\n",
            "\n"
          ],
          "name": "stdout"
        }
      ]
    },
    {
      "cell_type": "code",
      "metadata": {
        "id": "QZLzNHmH1U3D",
        "colab_type": "code",
        "colab": {
          "base_uri": "https://localhost:8080/",
          "height": 35
        },
        "outputId": "4a93697e-132b-4f62-8626-5a5c798f4299"
      },
      "source": [
        "# Count the number of rows.\n",
        "df.count()"
      ],
      "execution_count": 6,
      "outputs": [
        {
          "output_type": "execute_result",
          "data": {
            "text/plain": [
              "1752932"
            ]
          },
          "metadata": {
            "tags": []
          },
          "execution_count": 6
        }
      ]
    },
    {
      "cell_type": "code",
      "metadata": {
        "id": "kTcZXouz7sns",
        "colab_type": "code",
        "colab": {
          "base_uri": "https://localhost:8080/",
          "height": 156
        },
        "outputId": "ff533528-3245-455c-8b75-1cab4252dd7c"
      },
      "source": [
        "# Check latest review date\n",
        "df.select('review_date').sort('review_date',ascending=False).show(2)\n"
      ],
      "execution_count": 96,
      "outputs": [
        {
          "output_type": "stream",
          "text": [
            "+-----------+\n",
            "|review_date|\n",
            "+-----------+\n",
            "| 2015-08-31|\n",
            "| 2015-08-31|\n",
            "+-----------+\n",
            "only showing top 2 rows\n",
            "\n"
          ],
          "name": "stdout"
        }
      ]
    },
    {
      "cell_type": "code",
      "metadata": {
        "id": "PHsQb4eL94oy",
        "colab_type": "code",
        "colab": {
          "base_uri": "https://localhost:8080/",
          "height": 156
        },
        "outputId": "054fe123-289c-49dc-e80d-ab0c062bab86"
      },
      "source": [
        "# Check oldest review date\n",
        "df.select('review_date').filter(df['review_date']!= 'null').sort('review_date',ascending=True).show(2)"
      ],
      "execution_count": 98,
      "outputs": [
        {
          "output_type": "stream",
          "text": [
            "+-----------+\n",
            "|review_date|\n",
            "+-----------+\n",
            "| 1999-07-13|\n",
            "| 1999-07-13|\n",
            "+-----------+\n",
            "only showing top 2 rows\n",
            "\n"
          ],
          "name": "stdout"
        }
      ]
    },
    {
      "cell_type": "code",
      "metadata": {
        "id": "deObHgGc1b9y",
        "colab_type": "code",
        "colab": {
          "base_uri": "https://localhost:8080/",
          "height": 277
        },
        "outputId": "ae4d0783-560f-4f4a-9499-7d9ea010beca"
      },
      "source": [
        "# Check data types.\n",
        "df.dtypes"
      ],
      "execution_count": 7,
      "outputs": [
        {
          "output_type": "execute_result",
          "data": {
            "text/plain": [
              "[('marketplace', 'string'),\n",
              " ('customer_id', 'int'),\n",
              " ('review_id', 'string'),\n",
              " ('product_id', 'string'),\n",
              " ('product_parent', 'int'),\n",
              " ('product_title', 'string'),\n",
              " ('product_category', 'string'),\n",
              " ('star_rating', 'int'),\n",
              " ('helpful_votes', 'int'),\n",
              " ('total_votes', 'int'),\n",
              " ('vine', 'string'),\n",
              " ('verified_purchase', 'string'),\n",
              " ('review_headline', 'string'),\n",
              " ('review_body', 'string'),\n",
              " ('review_date', 'string')]"
            ]
          },
          "metadata": {
            "tags": []
          },
          "execution_count": 7
        }
      ]
    },
    {
      "cell_type": "code",
      "metadata": {
        "id": "MKYZVAUQ1onA",
        "colab_type": "code",
        "colab": {
          "base_uri": "https://localhost:8080/",
          "height": 35
        },
        "outputId": "22ad7c3e-cdb1-476e-b1ba-2f386e81bf1f"
      },
      "source": [
        "# Drop data with NAN values\n",
        "df.dropna(subset=['product_id', 'customer_id', 'review_id'])\n",
        "df.count()"
      ],
      "execution_count": 8,
      "outputs": [
        {
          "output_type": "execute_result",
          "data": {
            "text/plain": [
              "1752932"
            ]
          },
          "metadata": {
            "tags": []
          },
          "execution_count": 8
        }
      ]
    },
    {
      "cell_type": "code",
      "metadata": {
        "id": "Y0WBO-kx12mP",
        "colab_type": "code",
        "colab": {
          "base_uri": "https://localhost:8080/",
          "height": 35
        },
        "outputId": "84940239-be3c-4925-e73d-213b5fece890"
      },
      "source": [
        "# Check for duplicates.\n",
        "df.drop_duplicates(['customer_id','product_id','review_id'])\n",
        "df.count()"
      ],
      "execution_count": 9,
      "outputs": [
        {
          "output_type": "execute_result",
          "data": {
            "text/plain": [
              "1752932"
            ]
          },
          "metadata": {
            "tags": []
          },
          "execution_count": 9
        }
      ]
    },
    {
      "cell_type": "markdown",
      "metadata": {
        "id": "mRos9n_a2V3J",
        "colab_type": "text"
      },
      "source": [
        "# Analysis"
      ]
    },
    {
      "cell_type": "code",
      "metadata": {
        "id": "DHVR_zqL2cJd",
        "colab_type": "code",
        "colab": {
          "base_uri": "https://localhost:8080/",
          "height": 35
        },
        "outputId": "99059735-0ec7-45c4-ecb7-5ae535e7f658"
      },
      "source": [
        "# Filter for verified purchases.\n",
        "cleaned_df=df.filter(df['verified_purchase']== \"Y\")\n",
        "cleaned_df.count()"
      ],
      "execution_count": 99,
      "outputs": [
        {
          "output_type": "execute_result",
          "data": {
            "text/plain": [
              "1392128"
            ]
          },
          "metadata": {
            "tags": []
          },
          "execution_count": 99
        }
      ]
    },
    {
      "cell_type": "code",
      "metadata": {
        "id": "5gaDLg_Q_RJD",
        "colab_type": "code",
        "colab": {
          "base_uri": "https://localhost:8080/",
          "height": 156
        },
        "outputId": "12e48272-9a04-4b95-db00-4237572e80b8"
      },
      "source": [
        "# Check oldest review date\n",
        "cleaned_df.select('review_date').filter(cleaned_df['review_date']!= 'null').sort('review_date',ascending=True).show(2)"
      ],
      "execution_count": 100,
      "outputs": [
        {
          "output_type": "stream",
          "text": [
            "+-----------+\n",
            "|review_date|\n",
            "+-----------+\n",
            "| 1999-08-13|\n",
            "| 1999-10-16|\n",
            "+-----------+\n",
            "only showing top 2 rows\n",
            "\n"
          ],
          "name": "stdout"
        }
      ]
    },
    {
      "cell_type": "code",
      "metadata": {
        "id": "z70bTFGW_RbP",
        "colab_type": "code",
        "colab": {
          "base_uri": "https://localhost:8080/",
          "height": 156
        },
        "outputId": "9329e0a0-f6f5-482c-b9c2-0e8c66222620"
      },
      "source": [
        "# Check Latest review date\n",
        "cleaned_df.select('review_date').filter(cleaned_df['review_date']!= 'null').sort('review_date',ascending=False).show(2)"
      ],
      "execution_count": 101,
      "outputs": [
        {
          "output_type": "stream",
          "text": [
            "+-----------+\n",
            "|review_date|\n",
            "+-----------+\n",
            "| 2015-08-31|\n",
            "| 2015-08-31|\n",
            "+-----------+\n",
            "only showing top 2 rows\n",
            "\n"
          ],
          "name": "stdout"
        }
      ]
    },
    {
      "cell_type": "code",
      "metadata": {
        "id": "sH4yIvYk4dpM",
        "colab_type": "code",
        "colab": {
          "base_uri": "https://localhost:8080/",
          "height": 139
        },
        "outputId": "0a53a463-ccb7-464d-93ce-0556d75267ab"
      },
      "source": [
        "# Calculate V vs !V review count for df(not just verified purchase).\n",
        "df.groupBy('vine').count().show()"
      ],
      "execution_count": 11,
      "outputs": [
        {
          "output_type": "stream",
          "text": [
            "+----+-------+\n",
            "|vine|  count|\n",
            "+----+-------+\n",
            "|   Y|  12100|\n",
            "|   N|1740832|\n",
            "+----+-------+\n",
            "\n"
          ],
          "name": "stdout"
        }
      ]
    },
    {
      "cell_type": "code",
      "metadata": {
        "id": "BUIzEur84z_Z",
        "colab_type": "code",
        "colab": {
          "base_uri": "https://localhost:8080/",
          "height": 139
        },
        "outputId": "9b560395-97e4-4155-8348-1ed582eac843"
      },
      "source": [
        "# Calculate V vs !V review count for verified purchase df.\n",
        "cleaned_df.groupBy('vine').count().show()"
      ],
      "execution_count": 12,
      "outputs": [
        {
          "output_type": "stream",
          "text": [
            "+----+-------+\n",
            "|vine|  count|\n",
            "+----+-------+\n",
            "|   Y|     19|\n",
            "|   N|1392109|\n",
            "+----+-------+\n",
            "\n"
          ],
          "name": "stdout"
        }
      ]
    },
    {
      "cell_type": "code",
      "metadata": {
        "id": "dXfEh2_5_zJH",
        "colab_type": "code",
        "colab": {
          "base_uri": "https://localhost:8080/",
          "height": 139
        },
        "outputId": "b1e9b652-5918-4144-f3f9-1b60a8283c0e"
      },
      "source": [
        "# Calculate avergae star rating for V vs !V.\n",
        "avg_rating_df= df.groupBy('vine').mean('star_rating')\n",
        "avg_rating_df.show()"
      ],
      "execution_count": 18,
      "outputs": [
        {
          "output_type": "stream",
          "text": [
            "+----+-----------------+\n",
            "|vine| avg(star_rating)|\n",
            "+----+-----------------+\n",
            "|   Y|4.290082644628099|\n",
            "|   N| 4.16179734747523|\n",
            "+----+-----------------+\n",
            "\n"
          ],
          "name": "stdout"
        }
      ]
    },
    {
      "cell_type": "code",
      "metadata": {
        "id": "ORLc19T8BzLY",
        "colab_type": "code",
        "colab": {
          "base_uri": "https://localhost:8080/",
          "height": 139
        },
        "outputId": "db3b4338-a77a-4d9e-ac11-5d7fb7bfa4ba"
      },
      "source": [
        "avg_rating_verified= cleaned_df.groupBy('vine').mean('star_rating')\n",
        "avg_rating_verified.show()"
      ],
      "execution_count": 19,
      "outputs": [
        {
          "output_type": "stream",
          "text": [
            "+----+-----------------+\n",
            "|vine| avg(star_rating)|\n",
            "+----+-----------------+\n",
            "|   Y|4.157894736842105|\n",
            "|   N|4.236202050270489|\n",
            "+----+-----------------+\n",
            "\n"
          ],
          "name": "stdout"
        }
      ]
    },
    {
      "cell_type": "code",
      "metadata": {
        "id": "nqWr-ApzCVq5",
        "colab_type": "code",
        "colab": {
          "base_uri": "https://localhost:8080/",
          "height": 139
        },
        "outputId": "24f7561a-c728-4f43-9f1c-0eb6378b04e0"
      },
      "source": [
        "# Check how helpful the V vs !V reviews were.\n",
        "cleaned_df.groupBy('vine').mean('helpful_votes').show()"
      ],
      "execution_count": 21,
      "outputs": [
        {
          "output_type": "stream",
          "text": [
            "+----+------------------+\n",
            "|vine|avg(helpful_votes)|\n",
            "+----+------------------+\n",
            "|   Y| 3.473684210526316|\n",
            "|   N|1.1019237717736183|\n",
            "+----+------------------+\n",
            "\n"
          ],
          "name": "stdout"
        }
      ]
    },
    {
      "cell_type": "code",
      "metadata": {
        "id": "IF0AM6FhGNbP",
        "colab_type": "code",
        "colab": {}
      },
      "source": [
        "#Import an sql function to use col.\n",
        "from pyspark.sql.functions import col\n",
        "# from pyspark.sql.types import DateType\n",
        "\n",
        "cleaned_df=cleaned_df.withColumn(\"review_date\",col(\"review_date\").cast('date'))"
      ],
      "execution_count": 29,
      "outputs": []
    },
    {
      "cell_type": "code",
      "metadata": {
        "id": "Bso-_-E0DkCX",
        "colab_type": "code",
        "colab": {
          "base_uri": "https://localhost:8080/",
          "height": 225
        },
        "outputId": "e69c6de3-bf43-4cc6-df11-473e7a05822c"
      },
      "source": [
        "# Create df for review_id_table.\n",
        "review_id_df=cleaned_df.select(['review_id','customer_id','product_id','product_parent','review_date'])\n",
        "review_id_df.show(5)\n",
        "review_id_df.count()"
      ],
      "execution_count": 42,
      "outputs": [
        {
          "output_type": "stream",
          "text": [
            "+--------------+-----------+----------+--------------+-----------+\n",
            "|     review_id|customer_id|product_id|product_parent|review_date|\n",
            "+--------------+-----------+----------+--------------+-----------+\n",
            "| R8EWA1OFT84NX|    9970739|B00GSP5D94|     329991347| 2015-08-31|\n",
            "| RL5ESX231LZ0B|    8273344|B00BUBNZC8|     642922361| 2015-08-31|\n",
            "| RRMS9ZWJ2KD08|   24557753|B00AWLZFTS|     494272733| 2015-08-31|\n",
            "|R14I3ZG5E6S7YM|   46263340|B00KM60D3Q|     305813185| 2015-08-31|\n",
            "|R13EPSFP5DODN5|   24557753|B00PQMRZG4|     607341708| 2015-08-31|\n",
            "+--------------+-----------+----------+--------------+-----------+\n",
            "only showing top 5 rows\n",
            "\n"
          ],
          "name": "stdout"
        },
        {
          "output_type": "execute_result",
          "data": {
            "text/plain": [
              "1392128"
            ]
          },
          "metadata": {
            "tags": []
          },
          "execution_count": 42
        }
      ]
    },
    {
      "cell_type": "code",
      "metadata": {
        "id": "8LdCqduLHWqJ",
        "colab_type": "code",
        "colab": {
          "base_uri": "https://localhost:8080/",
          "height": 225
        },
        "outputId": "7bc08356-8e61-45dc-8bd4-1a09e9e9f6cb"
      },
      "source": [
        "# Drop duplicates.\n",
        "review_table=review_id_df.dropDuplicates()\n",
        "review_table.show(5)\n",
        "review_table.count()"
      ],
      "execution_count": 43,
      "outputs": [
        {
          "output_type": "stream",
          "text": [
            "+--------------+-----------+----------+--------------+-----------+\n",
            "|     review_id|customer_id|product_id|product_parent|review_date|\n",
            "+--------------+-----------+----------+--------------+-----------+\n",
            "|R2SGG3U5KRZ1D3|    7735719|B00F1CPBQ0|     295169426| 2015-08-31|\n",
            "|R2EFT92J89XYAO|   36369192|B0082I1IA8|     218693378| 2015-08-31|\n",
            "|R2RWLQEQ6P6AO6|   16379976|B004CLBWY6|     900081003| 2015-08-31|\n",
            "|R1H625FX48XDY0|   28543938|B0052QYLUM|     850036950| 2015-08-31|\n",
            "|R35HCD443WGOAM|   50071436|B0012S9D4S|     202446354| 2015-08-31|\n",
            "+--------------+-----------+----------+--------------+-----------+\n",
            "only showing top 5 rows\n",
            "\n"
          ],
          "name": "stdout"
        },
        {
          "output_type": "execute_result",
          "data": {
            "text/plain": [
              "1392128"
            ]
          },
          "metadata": {
            "tags": []
          },
          "execution_count": 43
        }
      ]
    },
    {
      "cell_type": "code",
      "metadata": {
        "id": "tAV6tujBIhMx",
        "colab_type": "code",
        "colab": {
          "base_uri": "https://localhost:8080/",
          "height": 225
        },
        "outputId": "a7ca9095-e1ea-45c3-e154-60d3da452b52"
      },
      "source": [
        "# Create df for products table\n",
        "products_df=cleaned_df.select(['product_id','product_title'])\n",
        "products_df.show(5)\n",
        "products_df.count()"
      ],
      "execution_count": 44,
      "outputs": [
        {
          "output_type": "stream",
          "text": [
            "+----------+--------------------+\n",
            "|product_id|       product_title|\n",
            "+----------+--------------------+\n",
            "|B00GSP5D94|Summer Infant Swa...|\n",
            "|B00BUBNZC8|Udder Covers - Br...|\n",
            "|B00AWLZFTS|Gerber Graduates ...|\n",
            "|B00KM60D3Q|Summer Infant Ult...|\n",
            "|B00PQMRZG4|Summer Infant Kee...|\n",
            "+----------+--------------------+\n",
            "only showing top 5 rows\n",
            "\n"
          ],
          "name": "stdout"
        },
        {
          "output_type": "execute_result",
          "data": {
            "text/plain": [
              "1392128"
            ]
          },
          "metadata": {
            "tags": []
          },
          "execution_count": 44
        }
      ]
    },
    {
      "cell_type": "code",
      "metadata": {
        "id": "Ym5n15lVIqtA",
        "colab_type": "code",
        "colab": {
          "base_uri": "https://localhost:8080/",
          "height": 225
        },
        "outputId": "5d71d064-a14a-45d9-9708-fe12cbb4b5d2"
      },
      "source": [
        "# Drop duplicates.\n",
        "cleaned_products_df=products_df.dropDuplicates(['product_id'])\n",
        "cleaned_products_df.show(5)\n",
        "cleaned_products_df.count()"
      ],
      "execution_count": 47,
      "outputs": [
        {
          "output_type": "stream",
          "text": [
            "+----------+--------------------+\n",
            "|product_id|       product_title|\n",
            "+----------+--------------------+\n",
            "|6003003065|Home Decor Vinyl ...|\n",
            "|B000056JES|LITTLE SUZY'S ZOO...|\n",
            "|B000056OV2|My Best Friend Nu...|\n",
            "|B00006JZ7J|Koala Baby - Cott...|\n",
            "|B0000BUSS6|Recalled Item: Wi...|\n",
            "+----------+--------------------+\n",
            "only showing top 5 rows\n",
            "\n"
          ],
          "name": "stdout"
        },
        {
          "output_type": "execute_result",
          "data": {
            "text/plain": [
              "139804"
            ]
          },
          "metadata": {
            "tags": []
          },
          "execution_count": 47
        }
      ]
    },
    {
      "cell_type": "code",
      "metadata": {
        "id": "ptZfbTPZJm4r",
        "colab_type": "code",
        "colab": {
          "base_uri": "https://localhost:8080/",
          "height": 225
        },
        "outputId": "3e175dc5-3418-41a0-fd48-f5320792cb7d"
      },
      "source": [
        "# Create df for vine table\n",
        "vine_table_df = cleaned_df.select(['review_id','star_rating','helpful_votes','total_votes','vine'])\n",
        "vine_table_df.show(5)\n",
        "vine_table_df.count()"
      ],
      "execution_count": 49,
      "outputs": [
        {
          "output_type": "stream",
          "text": [
            "+--------------+-----------+-------------+-----------+----+\n",
            "|     review_id|star_rating|helpful_votes|total_votes|vine|\n",
            "+--------------+-----------+-------------+-----------+----+\n",
            "| R8EWA1OFT84NX|          5|            0|          0|   N|\n",
            "| RL5ESX231LZ0B|          5|            0|          0|   N|\n",
            "| RRMS9ZWJ2KD08|          5|            0|          0|   N|\n",
            "|R14I3ZG5E6S7YM|          5|            0|          0|   N|\n",
            "|R13EPSFP5DODN5|          4|            0|          0|   N|\n",
            "+--------------+-----------+-------------+-----------+----+\n",
            "only showing top 5 rows\n",
            "\n"
          ],
          "name": "stdout"
        },
        {
          "output_type": "execute_result",
          "data": {
            "text/plain": [
              "1392128"
            ]
          },
          "metadata": {
            "tags": []
          },
          "execution_count": 49
        }
      ]
    },
    {
      "cell_type": "code",
      "metadata": {
        "id": "xvVV31HbKhs9",
        "colab_type": "code",
        "colab": {
          "base_uri": "https://localhost:8080/",
          "height": 225
        },
        "outputId": "8c0b90ba-0b45-49a2-fdc1-845fc1d34a48"
      },
      "source": [
        "# Drop Duplicates\n",
        "vine_table_df=vine_table_df.dropDuplicates()\n",
        "vine_table_df.show(5)\n",
        "vine_table_df.count()"
      ],
      "execution_count": 50,
      "outputs": [
        {
          "output_type": "stream",
          "text": [
            "+--------------+-----------+-------------+-----------+----+\n",
            "|     review_id|star_rating|helpful_votes|total_votes|vine|\n",
            "+--------------+-----------+-------------+-----------+----+\n",
            "|R11BXKH5WJER2O|          5|            0|          0|   N|\n",
            "|R3PZ2Q9K8Y2C47|          5|            0|          0|   N|\n",
            "|R2U3FC2KXQ3CI7|          5|            0|          0|   N|\n",
            "|R26OPU2I25ZGS9|          5|            0|          0|   N|\n",
            "| RF8MC62JYY86T|          4|            0|          0|   N|\n",
            "+--------------+-----------+-------------+-----------+----+\n",
            "only showing top 5 rows\n",
            "\n"
          ],
          "name": "stdout"
        },
        {
          "output_type": "execute_result",
          "data": {
            "text/plain": [
              "1392128"
            ]
          },
          "metadata": {
            "tags": []
          },
          "execution_count": 50
        }
      ]
    },
    {
      "cell_type": "code",
      "metadata": {
        "id": "De4uUrmuK1qR",
        "colab_type": "code",
        "colab": {
          "base_uri": "https://localhost:8080/",
          "height": 208
        },
        "outputId": "95464659-5042-4192-c33a-af94c4152338"
      },
      "source": [
        "# Filter for Vine reviews.\n",
        "Paid_df=vine_table_df.filter(vine_table_df['vine']== \"Y\")\n",
        "Paid_df.show(5)"
      ],
      "execution_count": 56,
      "outputs": [
        {
          "output_type": "stream",
          "text": [
            "+--------------+-----------+-------------+-----------+----+\n",
            "|     review_id|star_rating|helpful_votes|total_votes|vine|\n",
            "+--------------+-----------+-------------+-----------+----+\n",
            "| RSA6JQ346JZHZ|          5|           55|         64|   Y|\n",
            "|R2SGI1S0QUSZFZ|          5|            0|          1|   Y|\n",
            "|R2LO83W46LW8XV|          4|            0|          0|   Y|\n",
            "| R6EPMKW17LWJE|          4|            0|          1|   Y|\n",
            "|R2SJVUNVVT3PHD|          5|            0|          0|   Y|\n",
            "+--------------+-----------+-------------+-----------+----+\n",
            "only showing top 5 rows\n",
            "\n"
          ],
          "name": "stdout"
        }
      ]
    },
    {
      "cell_type": "code",
      "metadata": {
        "id": "HeAqclK6N_Cs",
        "colab_type": "code",
        "colab": {
          "base_uri": "https://localhost:8080/",
          "height": 191
        },
        "outputId": "50b8cc61-eaa7-4484-d880-3e17d7f56d5c"
      },
      "source": [
        "# Check summary statistics for Vine reviews.\n",
        "Paid_df.describe(['star_rating', 'helpful_votes']).show()"
      ],
      "execution_count": 74,
      "outputs": [
        {
          "output_type": "stream",
          "text": [
            "+-------+-----------------+------------------+\n",
            "|summary|      star_rating|     helpful_votes|\n",
            "+-------+-----------------+------------------+\n",
            "|  count|               19|                19|\n",
            "|   mean|4.157894736842105| 3.473684210526316|\n",
            "| stddev|0.898341551894183|12.509411661503474|\n",
            "|    min|                2|                 0|\n",
            "|    max|                5|                55|\n",
            "+-------+-----------------+------------------+\n",
            "\n"
          ],
          "name": "stdout"
        }
      ]
    },
    {
      "cell_type": "code",
      "metadata": {
        "id": "xaYhuePdOqgt",
        "colab_type": "code",
        "colab": {
          "base_uri": "https://localhost:8080/",
          "height": 329
        },
        "outputId": "77405bd0-41a6-40db-c5ea-acfb00c40090"
      },
      "source": [
        "# Check star count across star range for V.\n",
        "v_star_count=Paid_df.groupBy('star_rating').count()\n",
        "v_star_count.show()\n",
        "v_star_count=v_star_count.withColumn('%',col('count')/19*100)\n",
        "v_star_count.show()"
      ],
      "execution_count": 67,
      "outputs": [
        {
          "output_type": "stream",
          "text": [
            "+-----------+-----+\n",
            "|star_rating|count|\n",
            "+-----------+-----+\n",
            "|          3|    3|\n",
            "|          5|    8|\n",
            "|          4|    7|\n",
            "|          2|    1|\n",
            "+-----------+-----+\n",
            "\n",
            "+-----------+-----+------------------+\n",
            "|star_rating|count|                 %|\n",
            "+-----------+-----+------------------+\n",
            "|          3|    3|15.789473684210526|\n",
            "|          5|    8| 42.10526315789473|\n",
            "|          4|    7| 36.84210526315789|\n",
            "|          2|    1| 5.263157894736842|\n",
            "+-----------+-----+------------------+\n",
            "\n"
          ],
          "name": "stdout"
        }
      ]
    },
    {
      "cell_type": "code",
      "metadata": {
        "id": "hMQPfOnHSgOU",
        "colab_type": "code",
        "colab": {
          "base_uri": "https://localhost:8080/",
          "height": 208
        },
        "outputId": "d5ca29e9-3796-4823-92dd-2a3e628eb702"
      },
      "source": [
        "# Filter for !V reviews.\n",
        "unPaid_df=vine_table_df.filter(vine_table_df['vine']== \"N\")\n",
        "unPaid_df.show(5)"
      ],
      "execution_count": 72,
      "outputs": [
        {
          "output_type": "stream",
          "text": [
            "+--------------+-----------+-------------+-----------+----+\n",
            "|     review_id|star_rating|helpful_votes|total_votes|vine|\n",
            "+--------------+-----------+-------------+-----------+----+\n",
            "|R11BXKH5WJER2O|          5|            0|          0|   N|\n",
            "|R3PZ2Q9K8Y2C47|          5|            0|          0|   N|\n",
            "|R2U3FC2KXQ3CI7|          5|            0|          0|   N|\n",
            "|R26OPU2I25ZGS9|          5|            0|          0|   N|\n",
            "| RF8MC62JYY86T|          4|            0|          0|   N|\n",
            "+--------------+-----------+-------------+-----------+----+\n",
            "only showing top 5 rows\n",
            "\n"
          ],
          "name": "stdout"
        }
      ]
    },
    {
      "cell_type": "code",
      "metadata": {
        "id": "K_VpunEGTMO0",
        "colab_type": "code",
        "colab": {
          "base_uri": "https://localhost:8080/",
          "height": 191
        },
        "outputId": "cec9f9fc-0877-4f15-ed7a-f80b2e4252c5"
      },
      "source": [
        "# Check summary statistics for !V reviews.\n",
        "unPaid_df.describe(['star_rating', 'helpful_votes']).show()"
      ],
      "execution_count": 73,
      "outputs": [
        {
          "output_type": "stream",
          "text": [
            "+-------+------------------+------------------+\n",
            "|summary|       star_rating|     helpful_votes|\n",
            "+-------+------------------+------------------+\n",
            "|  count|           1392109|           1392109|\n",
            "|   mean| 4.236202050270489|1.1019237717736183|\n",
            "| stddev|1.2143407992166446|11.300942715637479|\n",
            "|    min|                 1|                 0|\n",
            "|    max|                 5|              5245|\n",
            "+-------+------------------+------------------+\n",
            "\n"
          ],
          "name": "stdout"
        }
      ]
    },
    {
      "cell_type": "code",
      "metadata": {
        "id": "No4-1BWYTqMX",
        "colab_type": "code",
        "colab": {
          "base_uri": "https://localhost:8080/",
          "height": 364
        },
        "outputId": "e867b8df-fc88-43e6-f962-1fa56edee0fd"
      },
      "source": [
        "# Check star count across star range for !V.\n",
        "nv_star_count=unPaid_df.groupBy('star_rating').count()\n",
        "nv_star_count.show(5)\n",
        "nv_star_count=nv_star_count.withColumn('%',col('count')/1392109*100)\n",
        "nv_star_count.show()"
      ],
      "execution_count": 78,
      "outputs": [
        {
          "output_type": "stream",
          "text": [
            "+-----------+------+\n",
            "|star_rating| count|\n",
            "+-----------+------+\n",
            "|          1| 93351|\n",
            "|          3|119981|\n",
            "|          5|876023|\n",
            "|          4|229169|\n",
            "|          2| 73585|\n",
            "+-----------+------+\n",
            "\n",
            "+-----------+------+------------------+\n",
            "|star_rating| count|                 %|\n",
            "+-----------+------+------------------+\n",
            "|          1| 93351|6.7057249109085575|\n",
            "|          3|119981| 8.618649832735798|\n",
            "|          5|876023| 62.92775924873699|\n",
            "|          4|229169| 16.46200117950534|\n",
            "|          2| 73585| 5.285864828113316|\n",
            "+-----------+------+------------------+\n",
            "\n"
          ],
          "name": "stdout"
        }
      ]
    },
    {
      "cell_type": "code",
      "metadata": {
        "id": "hYahNE8rVNLl",
        "colab_type": "code",
        "colab": {
          "base_uri": "https://localhost:8080/",
          "height": 347
        },
        "outputId": "f9484136-07be-4d64-a512-fc4a2de3a1b7"
      },
      "source": [
        "# Comparing V vs !V Star Count\n",
        "nv_star_count.orderBy('star_rating').show()\n",
        "\n",
        "v_star_count.orderBy('star_rating').show()"
      ],
      "execution_count": 79,
      "outputs": [
        {
          "output_type": "stream",
          "text": [
            "+-----------+------+------------------+\n",
            "|star_rating| count|                 %|\n",
            "+-----------+------+------------------+\n",
            "|          1| 93351|6.7057249109085575|\n",
            "|          2| 73585| 5.285864828113316|\n",
            "|          3|119981| 8.618649832735798|\n",
            "|          4|229169| 16.46200117950534|\n",
            "|          5|876023| 62.92775924873699|\n",
            "+-----------+------+------------------+\n",
            "\n",
            "+-----------+-----+------------------+\n",
            "|star_rating|count|                 %|\n",
            "+-----------+-----+------------------+\n",
            "|          2|    1| 5.263157894736842|\n",
            "|          3|    3|15.789473684210526|\n",
            "|          4|    7| 36.84210526315789|\n",
            "|          5|    8| 42.10526315789473|\n",
            "+-----------+-----+------------------+\n",
            "\n"
          ],
          "name": "stdout"
        }
      ]
    }
  ]
}