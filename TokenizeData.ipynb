{
  "nbformat": 4,
  "nbformat_minor": 0,
  "metadata": {
    "colab": {
      "name": "TokenizeData.ipynb",
      "provenance": [],
      "collapsed_sections": [],
      "authorship_tag": "ABX9TyORkrx5VXfRLSqoAkPlwTMU",
      "include_colab_link": true
    },
    "kernelspec": {
      "name": "python3",
      "display_name": "Python 3"
    }
  },
  "cells": [
    {
      "cell_type": "markdown",
      "metadata": {
        "id": "view-in-github",
        "colab_type": "text"
      },
      "source": [
        "<a href=\"https://colab.research.google.com/github/Muzznah/Module-16/blob/master/TokenizeData.ipynb\" target=\"_parent\"><img src=\"https://colab.research.google.com/assets/colab-badge.svg\" alt=\"Open In Colab\"/></a>"
      ]
    },
    {
      "cell_type": "code",
      "metadata": {
        "id": "WmpM4DyySRCk",
        "colab_type": "code",
        "colab": {}
      },
      "source": [
        "# Install Java, Spark, and Findspark\n",
        "!apt-get install openjdk-8-jdk-headless -qq > /dev/null\n",
        "!wget -q http://www-us.apache.org/dist/spark/spark-3.0.0/spark-3.0.0-bin-hadoop2.7.tgz\n",
        "!tar xf spark-3.0.0-bin-hadoop2.7.tgz\n",
        "!pip install -q findspark\n",
        "\n",
        "# Set Environment Variables\n",
        "import os\n",
        "os.environ[\"JAVA_HOME\"] = \"/usr/lib/jvm/java-8-openjdk-amd64\"\n",
        "os.environ[\"SPARK_HOME\"] = \"/content/spark-3.0.0-bin-hadoop2.7\"\n",
        "\n",
        "# Start a SparkSession\n",
        "import findspark\n",
        "findspark.init()"
      ],
      "execution_count": 21,
      "outputs": []
    },
    {
      "cell_type": "code",
      "metadata": {
        "id": "nZl-UvFqSl6D",
        "colab_type": "code",
        "colab": {}
      },
      "source": [
        "# Start Spark session\n",
        "from pyspark.sql import SparkSession\n",
        "spark = SparkSession.builder.appName(\"Tokens\").getOrCreate()"
      ],
      "execution_count": 4,
      "outputs": []
    },
    {
      "cell_type": "code",
      "metadata": {
        "id": "_B3-7rXES19k",
        "colab_type": "code",
        "colab": {}
      },
      "source": [
        "#Import Tokenizer Library,\n",
        "from pyspark.ml.feature import Tokenizer"
      ],
      "execution_count": 5,
      "outputs": []
    },
    {
      "cell_type": "markdown",
      "metadata": {
        "id": "4lZRs-MkT5Qe",
        "colab_type": "text"
      },
      "source": [
        "Spark gives us the ability to create a DataFrame from scratch as well. Although you’ll mainly use DataFrames imported from data, the ability to create quick, small DataFrames allows for quick, easy testing. We’ll create a small DataFrame that will show the pre-tokenized data, using the following code:"
      ]
    },
    {
      "cell_type": "code",
      "metadata": {
        "id": "mvNnM-RpT6tJ",
        "colab_type": "code",
        "colab": {
          "base_uri": "https://localhost:8080/",
          "height": 156
        },
        "outputId": "c10f2e82-82bc-40b1-949c-fb90b201315e"
      },
      "source": [
        "# Create sample dataframe.\n",
        "dataframe=spark.createDataFrame([(0,'Spark is great'),(1, 'We are learning Spark'), (2,'Spark is better than Hadoop no doubt')],['id','sentences'])\n",
        "dataframe.show()"
      ],
      "execution_count": 13,
      "outputs": [
        {
          "output_type": "stream",
          "text": [
            "+---+--------------------+\n",
            "| id|           sentences|\n",
            "+---+--------------------+\n",
            "|  0|      Spark is great|\n",
            "|  1|We are learning S...|\n",
            "|  2|Spark is better t...|\n",
            "+---+--------------------+\n",
            "\n"
          ],
          "name": "stdout"
        }
      ]
    },
    {
      "cell_type": "code",
      "metadata": {
        "id": "H8jARNm0VGVV",
        "colab_type": "code",
        "colab": {
          "base_uri": "https://localhost:8080/",
          "height": 35
        },
        "outputId": "f205c152-2d72-42c4-b24b-5cde8717ca53"
      },
      "source": [
        "# Tokenize sentences\n",
        "tokenizer = Tokenizer(inputCol=\"sentences\", outputCol=\"words\")\n",
        "tokenizer"
      ],
      "execution_count": 14,
      "outputs": [
        {
          "output_type": "execute_result",
          "data": {
            "text/plain": [
              "Tokenizer_832152c63dd2"
            ]
          },
          "metadata": {
            "tags": []
          },
          "execution_count": 14
        }
      ]
    },
    {
      "cell_type": "code",
      "metadata": {
        "id": "tElffYiVVgKu",
        "colab_type": "code",
        "colab": {
          "base_uri": "https://localhost:8080/",
          "height": 156
        },
        "outputId": "5234d58d-cbfb-43b5-c580-fca7d22701cb"
      },
      "source": [
        "# Transform and show Dataframe.\n",
        "tokenized_df=tokenizer.transform(dataframe)\n",
        "tokenized_df.show(truncate=False)"
      ],
      "execution_count": 15,
      "outputs": [
        {
          "output_type": "stream",
          "text": [
            "+---+------------------------------------+--------------------------------------------+\n",
            "|id |sentences                           |words                                       |\n",
            "+---+------------------------------------+--------------------------------------------+\n",
            "|0  |Spark is great                      |[spark, is, great]                          |\n",
            "|1  |We are learning Spark               |[we, are, learning, spark]                  |\n",
            "|2  |Spark is better than Hadoop no doubt|[spark, is, better, than, hadoop, no, doubt]|\n",
            "+---+------------------------------------+--------------------------------------------+\n",
            "\n"
          ],
          "name": "stdout"
        }
      ]
    },
    {
      "cell_type": "code",
      "metadata": {
        "id": "lXvpe-7RW5OK",
        "colab_type": "code",
        "colab": {}
      },
      "source": [
        "# Create a function to return the length of a list\n",
        "def word_list_length(word_list):\n",
        "\treturn len(word_list)"
      ],
      "execution_count": 16,
      "outputs": []
    },
    {
      "cell_type": "code",
      "metadata": {
        "id": "BYnRnw4QW6gJ",
        "colab_type": "code",
        "colab": {}
      },
      "source": [
        "# Import dependencies.\n",
        "from pyspark.sql.functions import col, udf\n",
        "from pyspark.sql.types import IntegerType"
      ],
      "execution_count": 17,
      "outputs": []
    },
    {
      "cell_type": "code",
      "metadata": {
        "id": "Wgxg-tEXXGTG",
        "colab_type": "code",
        "colab": {}
      },
      "source": [
        "# Create a user defined function\n",
        "count_tokens = udf(word_list_length, IntegerType())"
      ],
      "execution_count": 19,
      "outputs": []
    },
    {
      "cell_type": "code",
      "metadata": {
        "id": "rJQtUwkCXf1i",
        "colab_type": "code",
        "colab": {
          "base_uri": "https://localhost:8080/",
          "height": 156
        },
        "outputId": "d6378eac-4109-4ee8-9d87-92d47dd5e660"
      },
      "source": [
        "# Tokenize sentences\n",
        "tokenizer = Tokenizer(inputCol=\"sentences\", outputCol=\"words\")\n",
        "\n",
        "# Transform Dataframe.\n",
        "tokenized_df=tokenizer.transform(dataframe)\n",
        "\n",
        "# Select the needed columns and dont truncate results.\n",
        "tokenized_df.withColumn(\"tokens\", count_tokens(col('words'))).show(truncate=False)"
      ],
      "execution_count": 20,
      "outputs": [
        {
          "output_type": "stream",
          "text": [
            "+---+------------------------------------+--------------------------------------------+------+\n",
            "|id |sentences                           |words                                       |tokens|\n",
            "+---+------------------------------------+--------------------------------------------+------+\n",
            "|0  |Spark is great                      |[spark, is, great]                          |3     |\n",
            "|1  |We are learning Spark               |[we, are, learning, spark]                  |4     |\n",
            "|2  |Spark is better than Hadoop no doubt|[spark, is, better, than, hadoop, no, doubt]|7     |\n",
            "+---+------------------------------------+--------------------------------------------+------+\n",
            "\n"
          ],
          "name": "stdout"
        }
      ]
    },
    {
      "cell_type": "markdown",
      "metadata": {
        "id": "_8phXJf5d4O5",
        "colab_type": "text"
      },
      "source": [
        "# **SKILL DRILL**\n",
        " ***Combine both tokenizer and StopWordsRemover on a DataFrame that isn’t already broken out into a list of words.***"
      ]
    },
    {
      "cell_type": "code",
      "metadata": {
        "id": "aeGfo7QfeB-E",
        "colab_type": "code",
        "colab": {
          "base_uri": "https://localhost:8080/",
          "height": 156
        },
        "outputId": "4f5386e3-4dcd-4e28-f1fc-6ca2fbb48d41"
      },
      "source": [
        "tokenized_df.show()"
      ],
      "execution_count": 22,
      "outputs": [
        {
          "output_type": "stream",
          "text": [
            "+---+--------------------+--------------------+\n",
            "| id|           sentences|               words|\n",
            "+---+--------------------+--------------------+\n",
            "|  0|      Spark is great|  [spark, is, great]|\n",
            "|  1|We are learning S...|[we, are, learnin...|\n",
            "|  2|Spark is better t...|[spark, is, bette...|\n",
            "+---+--------------------+--------------------+\n",
            "\n"
          ],
          "name": "stdout"
        }
      ]
    },
    {
      "cell_type": "code",
      "metadata": {
        "id": "kgpdFu7dd6BO",
        "colab_type": "code",
        "colab": {}
      },
      "source": [
        "# Import stop words library\n",
        "from pyspark.ml.feature import StopWordsRemover"
      ],
      "execution_count": 23,
      "outputs": []
    },
    {
      "cell_type": "code",
      "metadata": {
        "id": "nGniFbxreRMl",
        "colab_type": "code",
        "colab": {}
      },
      "source": [
        "# Run the Remover\n",
        "remover = StopWordsRemover(inputCol=\"words\", outputCol=\"filtered\")\n"
      ],
      "execution_count": 24,
      "outputs": []
    },
    {
      "cell_type": "code",
      "metadata": {
        "id": "4UXhQ6xDefML",
        "colab_type": "code",
        "colab": {
          "base_uri": "https://localhost:8080/",
          "height": 156
        },
        "outputId": "4ae714ef-bc14-4303-ea6f-ba2fb05f7196"
      },
      "source": [
        "# Transform and show data.\n",
        "remover.transform(tokenized_df).show(truncate=False)"
      ],
      "execution_count": 25,
      "outputs": [
        {
          "output_type": "stream",
          "text": [
            "+---+------------------------------------+--------------------------------------------+------------------------------+\n",
            "|id |sentences                           |words                                       |filtered                      |\n",
            "+---+------------------------------------+--------------------------------------------+------------------------------+\n",
            "|0  |Spark is great                      |[spark, is, great]                          |[spark, great]                |\n",
            "|1  |We are learning Spark               |[we, are, learning, spark]                  |[learning, spark]             |\n",
            "|2  |Spark is better than Hadoop no doubt|[spark, is, better, than, hadoop, no, doubt]|[spark, better, hadoop, doubt]|\n",
            "+---+------------------------------------+--------------------------------------------+------------------------------+\n",
            "\n"
          ],
          "name": "stdout"
        }
      ]
    }
  ]
}